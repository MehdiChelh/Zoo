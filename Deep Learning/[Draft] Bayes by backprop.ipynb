{
 "cells": [
  {
   "cell_type": "code",
   "execution_count": 445,
   "metadata": {},
   "outputs": [],
   "source": [
    "%matplotlib inline\n",
    "import torch\n",
    "from torch import nn\n",
    "from torch import optim\n",
    "import torch.distributions as dist\n",
    "import torch.nn.functional as F\n",
    "import torch.utils.data\n",
    "from torchvision.utils import make_grid\n",
    "from torchvision import datasets, transforms\n",
    "\n",
    "import pandas as pd\n",
    "import numpy as np\n",
    "from matplotlib import pyplot as plt\n",
    "import seaborn as sns"
   ]
  },
  {
   "cell_type": "markdown",
   "metadata": {},
   "source": [
    "# Bayes by backprop\n",
    "\n",
    "Notebook based on Bayes by Backprop approach for training Bayesian Neural Network.\n",
    "\n",
    "**Why Bayesian Neural Network**\n",
    "\n",
    "Blablabla....\n",
    "\n",
    "**My understanding of the article**\n",
    "\n",
    "What I understand from the article:\n",
    "- Let's denote $D$ our dataset and $\\mathbf{w}$ the \"parameters\" of our model. As we are Bayesian, the parameters of our model are random variables and not real numbers.\n",
    "- The ultimate goal of the optimisation process is to approximate the true posterior of our model $\\mathbb{P}(\\mathbf{w}\\,|\\,D)$. Indeed, this distribution can be used to give predictions about unseen queries:\n",
    "$$\\mathbb{P}\\left(\\mathbf{\\hat y}\\,|\\,\\mathbf{\\hat x}, D\\right) = \\int \\mathbb{P}\\left(\\mathbf{\\hat y}\\,|\\,\\mathbf{\\hat x}, D, \\mathbf{w}\\right)d\\mathbb{P}(\\mathbf{w}\\,|\\,D) = \\mathbb{E}_{\\mathbb{P}(\\mathbf{w}\\,|\\,D)}\\left[\\mathbb{P}\\left(\\mathbf{\\hat y}\\,|\\,\\mathbf{\\hat x}, D, \\mathbf{w}\\right)\\right]$$\n",
    "- Thus we want to minimise the KL distance between the variational posterior and the true posterior. We can show this is equivalent to minimising the KL distance between the variational posterior and the prior plus the expected negative log-likelihood.\n",
    "\n",
    "**Minimisation objective**\n",
    "\n",
    "Add the equations.\n",
    "\n",
    "**New advances since bayes by backprop**\n",
    "\n",
    "To be documented.\n",
    "\n",
    "**References:**\n",
    "- Blundell C. et al. [Weight Uncertainty In Neural Networks](https://arxiv.org/pdf/1505.05424.pdf).\n",
    "- Huge credit to @nitarshan for this [notebook](https://github.com/nitarshan/bayes-by-backprop/blob/master/Weight%20Uncertainty%20in%20Neural%20Networks.ipynb). A lot of code comes from this notebook with just a few modifications. \n",
    "\n",
    "\n",
    "## Organisation of the notebook\n",
    "\n",
    "1. BayesianLinear \n",
    "    - *Bayesian linear layer as defined in the article.*\n",
    "2. BayesianNetwork\n",
    "    - *A simple Bayesian Network using multiple Bayesian Linear layers and a softmax to classify fmnist examples.*"
   ]
  },
  {
   "cell_type": "code",
   "execution_count": 72,
   "metadata": {},
   "outputs": [
    {
     "data": {
      "image/png": "[encoded data removed]",
      "text/plain": [
       "<matplotlib.figure.Figure at 0x125604cc0>"
      ]
     },
     "metadata": {},
     "output_type": "display_data"
    }
   ],
   "source": [
    "input_size, output_size = 100, 100\n",
    "weight_distrib = torch.distributions.normal.Normal(torch.Tensor(output_size, input_size).uniform_(-0.2, 0.2), torch.Tensor(output_size, input_size).uniform_(0.005, 0.02))\n",
    "plt.hist(weight_distrib.sample((1000,)).flatten())\n",
    "plt.title(\"Weights distribution\")\n",
    "plt.show()"
   ]
  },
  {
   "cell_type": "code",
   "execution_count": 588,
   "metadata": {},
   "outputs": [],
   "source": [
    "import math\n",
    "\n",
    "# Prior initialisation\n",
    "SIGMA = torch.FloatTensor([np.sqrt(0.5 * 0 + 0.5 * 6)])\n",
    "\n",
    "# Variational Posterior initialisation\n",
    "PI = 0.5\n",
    "SIGMA_1 = torch.FloatTensor([math.exp(-0)])\n",
    "SIGMA_2 = torch.FloatTensor([math.exp(-6)])\n",
    "\n",
    "class Gaussian(nn.Module):\n",
    "    def __init__(self, mu, rho):\n",
    "        super().__init__()\n",
    "        self.mu = mu\n",
    "        self.rho = rho\n",
    "        self.normal = torch.distributions.Normal(0,1)\n",
    "    \n",
    "    @property\n",
    "    def sigma(self):\n",
    "        return torch.log1p(torch.exp(self.rho))\n",
    "    \n",
    "    def sample(self):\n",
    "        epsilon = self.normal.sample(self.rho.size())\n",
    "        return self.mu + self.sigma * epsilon\n",
    "    \n",
    "    def log_prob(self, input):\n",
    "        return (-math.log(math.sqrt(2 * math.pi))\n",
    "                - torch.log(self.sigma)\n",
    "                - ((input - self.mu) ** 2) / (2 * self.sigma ** 2)).sum()\n",
    "\n",
    "class ScaleMixtureGaussian(object):\n",
    "    def __init__(self, pi, sigma1, sigma2):\n",
    "        super().__init__()\n",
    "        self.pi = pi\n",
    "        self.sigma1 = sigma1\n",
    "        self.sigma2 = sigma2\n",
    "        self.gaussian1 = torch.distributions.Normal(0,sigma1)\n",
    "        self.gaussian2 = torch.distributions.Normal(0,sigma2)\n",
    "    \n",
    "    def log_prob(self, input):\n",
    "        prob1 = torch.exp(self.gaussian1.log_prob(input))\n",
    "        prob2 = torch.exp(self.gaussian2.log_prob(input))\n",
    "        return (torch.log(self.pi * prob1 + (1-self.pi) * prob2)).sum()\n",
    "\n",
    "class BayesianLinear(nn.Module):\n",
    "    def __init__(self, input_size, output_size):\n",
    "        super(BayesianLinear, self).__init__()\n",
    "        self.input_size = input_size\n",
    "        self.output_size = output_size\n",
    "        \n",
    "        # Weight parameters\n",
    "        self.weight_mu = nn.Parameter(torch.Tensor(output_size, input_size).uniform_(-0.2, 0.2))\n",
    "        self.weight_rho = nn.Parameter(torch.Tensor(output_size, input_size).uniform_(-5, -4))\n",
    "        self.weight = Gaussian(self.weight_mu, self.weight_rho)\n",
    "        \n",
    "        # Bias parameters\n",
    "        self.bias_mu = nn.Parameter(torch.Tensor(output_size).uniform_(-0.2, 0.2))\n",
    "        self.bias_rho = nn.Parameter(torch.Tensor(output_size).uniform_(-5, -4))\n",
    "        self.bias = Gaussian(self.bias_mu, self.bias_rho)\n",
    "        \n",
    "        # Prior distributions\n",
    "        self.weight_prior = ScaleMixtureGaussian(PI, SIGMA_1, SIGMA_2)\n",
    "        self.bias_prior = ScaleMixtureGaussian(PI, SIGMA_1, SIGMA_2)\n",
    "        self.log_prior = 0\n",
    "        self.log_variational_posterior = 0\n",
    "\n",
    "    def forward(self, input, sample=False, calculate_log_probs=False):\n",
    "        # Sampling and Log-probabilities are used when training.\n",
    "        if self.training or sample:\n",
    "            weight = self.weight.sample()\n",
    "            bias = self.bias.sample()\n",
    "        else:\n",
    "            weight = self.weight.mu\n",
    "            bias = self.bias.mu\n",
    "        if self.training or calculate_log_probs:\n",
    "            self.log_prior = self.weight_prior.log_prob(weight) + self.bias_prior.log_prob(bias)\n",
    "            self.log_variational_posterior = self.weight.log_prob(weight) + self.bias.log_prob(bias)\n",
    "        else:\n",
    "            self.log_prior, self.log_variational_posterior = 0, 0\n",
    "\n",
    "        return F.linear(input, weight, bias)"
   ]
  },
  {
   "cell_type": "code",
   "execution_count": 140,
   "metadata": {},
   "outputs": [
    {
     "data": {
      "image/png": "[encoded data removed]",
      "text/plain": [
       "<matplotlib.figure.Figure at 0x12dfd4240>"
      ]
     },
     "metadata": {},
     "output_type": "display_data"
    }
   ],
   "source": [
    "fig, axes = plt.subplots(1, 2, figsize=(16, 4))\n",
    "\n",
    "axes[0].hist([layer(torch.ones(10), sample=False).detach().numpy()[0] for i in range(10000)])\n",
    "axes[0].set_title(\"Linear layer output without sampling\")\n",
    "\n",
    "axes[1].hist([layer(torch.ones(10), sample=True).detach().numpy()[0] for i in range(10000)])\n",
    "axes[1].set_title(\"Linear layer output with sampling\")\n",
    "\n",
    "plt.show()"
   ]
  },
  {
   "cell_type": "code",
   "execution_count": 315,
   "metadata": {},
   "outputs": [],
   "source": [
    "BATCH_SIZE = 100\n",
    "TEST_BATCH_SIZE = 5\n",
    "\n",
    "train_loader = torch.utils.data.DataLoader(\n",
    "    datasets.FashionMNIST(\n",
    "        './fmnist', train=True, download=True,\n",
    "        transform=transforms.ToTensor()),\n",
    "    batch_size=BATCH_SIZE, shuffle=True)\n",
    "test_loader = torch.utils.data.DataLoader(\n",
    "    datasets.FashionMNIST(\n",
    "        './fmnist', train=False, download=True,\n",
    "        transform=transforms.ToTensor()),\n",
    "    batch_size=TEST_BATCH_SIZE, shuffle=False)\n",
    "\n",
    "TRAIN_SIZE = len(train_loader.dataset)\n",
    "TEST_SIZE = len(test_loader.dataset)\n",
    "NUM_BATCHES = len(train_loader)\n",
    "NUM_TEST_BATCHES = len(test_loader)\n",
    "\n",
    "CLASSES = 10\n",
    "TRAIN_EPOCHS = 20\n",
    "SAMPLES = 2\n",
    "TEST_SAMPLES = 10"
   ]
  },
  {
   "cell_type": "code",
   "execution_count": 628,
   "metadata": {},
   "outputs": [],
   "source": [
    "class BayesianNetwork(nn.Module):\n",
    "    def __init__(self):\n",
    "        super(BayesianNetwork, self).__init__()\n",
    "        self.l1 = BayesianLinear(28*28, 400)\n",
    "        self.l2 = BayesianLinear(400, 400)\n",
    "        self.l3 = BayesianLinear(400, 10)\n",
    "    \n",
    "    def forward(self, x, sample=False, calculate_log_probs=False):\n",
    "        x = x.view(-1, 28*28)\n",
    "        x = F.relu(self.l1(x, sample=sample)) # see how to make it simpler (args, kwargs)\n",
    "        x = F.relu(self.l2(x, sample=sample))\n",
    "        x = F.log_softmax(self.l3(x, sample), dim=1)\n",
    "        return x\n",
    "    \n",
    "    def log_prior(self):\n",
    "        return self.l1.log_prior \\\n",
    "               + self.l2.log_prior \\\n",
    "               + self.l3.log_prior\n",
    "    \n",
    "    def log_variational_posterior(self):\n",
    "        return self.l1.log_variational_posterior \\\n",
    "               + self.l2.log_variational_posterior \\\n",
    "               + self.l2.log_variational_posterior\n",
    "    \n",
    "    def sample_elbo(self, input, target, batch_id, samples=SAMPLES):\n",
    "        r'''\n",
    "        Compute ELBO (Evidence Lower Bound or also Variational Lower Bound).\n",
    "        ELBO is the lower bound that we want to minimise in order to have a variational\n",
    "        posterior as close as possible to the true posterior.\n",
    "        \n",
    "        Args:\n",
    "            input: input tensor\n",
    "            target: target prediction\n",
    "            SAMPLES: number of samples used for each prediction\n",
    "\n",
    "        Examples::\n",
    "            \n",
    "            >>> net = BayesianNetwork(10, 5)\n",
    "            >>> net.train() # set the network in training mode\n",
    "            >>> loss, _, _, _ = net.sample_elbo(data, target)\n",
    "            >>> loss.backward()\n",
    "            >>> optimizer.step()\n",
    "        '''\n",
    "        outputs = torch.zeros(samples, BATCH_SIZE, CLASSES)\n",
    "        log_priors = torch.zeros(samples)\n",
    "        log_variational_posteriors = torch.zeros(samples)\n",
    "        \n",
    "        # Sample predictions\n",
    "        for i in range(samples):\n",
    "            outputs[i] = self(input, sample=True)\n",
    "            log_priors[i] = self.log_prior()\n",
    "            log_variational_posteriors[i] = self.log_variational_posterior()\n",
    "        \n",
    "        log_prior = log_priors.mean()\n",
    "        log_variational_posterior = log_variational_posteriors.mean()\n",
    "        negative_log_likelihood = F.nll_loss(outputs.mean(0), target, reduction=\"sum\")\n",
    "        #negative_log_likelihood = F.nll_loss(outputs.reshape(samples*BATCH_SIZE, CLASSES), target.repeat(samples), reduction='sum') / samples\n",
    "        #batch_weight = 2**(NUM_BATCHES - (float(batch_id) + 1))/(2**NUM_BATCHES - 1)\n",
    "        batch_weight = 1/NUM_BATCHES\n",
    "        loss = (log_variational_posterior - log_prior) * batch_weight  + negative_log_likelihood\n",
    "        return loss, log_prior, log_variational_posterior, negative_log_likelihood\n",
    "\n",
    "net = BayesianNetwork()"
   ]
  },
  {
   "cell_type": "code",
   "execution_count": 229,
   "metadata": {},
   "outputs": [
    {
     "name": "stdout",
     "output_type": "stream",
     "text": [
      "Dataset FashionMNIST\n",
      "    Number of datapoints: 60000\n",
      "    Split: train\n",
      "    Root Location: ./fmnist\n",
      "    Transforms (if any): ToTensor()\n",
      "    Target Transforms (if any): None\n",
      "Batch size: 100\n",
      "Number of batches: 600.0\n"
     ]
    }
   ],
   "source": [
    "print(train_loader.dataset)\n",
    "print(\"Batch size: {}\".format(train_loader.batch_size))\n",
    "print(\"Number of batches: {}\".format(60000/train_loader.batch_size))"
   ]
  },
  {
   "cell_type": "code",
   "execution_count": 629,
   "metadata": {},
   "outputs": [
    {
     "name": "stdout",
     "output_type": "stream",
     "text": [
      "Epoch id: 4\tBatch id: 599\tLoss: 2431.307861328125"
     ]
    }
   ],
   "source": [
    "net.train()\n",
    "optimizer = optim.Adam(net.parameters())\n",
    "#loss_hist = list()\n",
    "TRAIN_EPOCHS = 5\n",
    "for epoch in range(TRAIN_EPOCHS):\n",
    "    for batch_idx, (data, target) in enumerate(train_loader):\n",
    "        data, target = data, target\n",
    "        net.zero_grad()\n",
    "        loss, log_prior, log_variational_posterior, negative_log_likelihood = net.sample_elbo(data, target, batch_idx)\n",
    "        loss_hist.append(loss.item())\n",
    "        print(\"\\rEpoch id: {}\\tBatch id: {}\\tLoss: {}\".format(epoch, batch_idx, loss_hist[-1]), end='')\n",
    "        loss.backward()\n",
    "        optimizer.step()"
   ]
  },
  {
   "cell_type": "code",
   "execution_count": 636,
   "metadata": {},
   "outputs": [
    {
     "data": {
      "image/png": "[encoded data removed]",
      "text/plain": [
       "<matplotlib.figure.Figure at 0x13d6f4588>"
      ]
     },
     "metadata": {},
     "output_type": "display_data"
    }
   ],
   "source": [
    "plt.plot(loss_hist[-TRAIN_EPOCHS*600:])\n",
    "plt.title(\"Loss as per mini-batch\")\n",
    "plt.show()"
   ]
  },
  {
   "cell_type": "code",
   "execution_count": 450,
   "metadata": {},
   "outputs": [
    {
     "name": "stdout",
     "output_type": "stream",
     "text": [
      "tensor([9, 2, 1, 1, 6])\n"
     ]
    },
    {
     "data": {
      "image/png": "[encoded data removed]",
      "text/plain": [
       "<matplotlib.figure.Figure at 0x1507a2eb8>"
      ]
     },
     "metadata": {},
     "output_type": "display_data"
    }
   ],
   "source": [
    "def show(img):\n",
    "    npimg = img.numpy()\n",
    "    plt.imshow(np.transpose(npimg, (1,2,0)), interpolation='nearest')\n",
    "    \n",
    "fmnist_sample = iter(test_loader).next()\n",
    "fmnist_sample[0] = fmnist_sample[0]\n",
    "print(fmnist_sample[1])\n",
    "sns.set_style(\"dark\")\n",
    "show(make_grid(fmnist_sample[0]))"
   ]
  },
  {
   "cell_type": "code",
   "execution_count": 635,
   "metadata": {},
   "outputs": [
    {
     "data": {
      "image/png": "[encoded data removed]",
      "text/plain": [
       "<matplotlib.figure.Figure at 0x15e365cf8>"
      ]
     },
     "metadata": {},
     "output_type": "display_data"
    }
   ],
   "source": [
    "# Just ponderation\n",
    "net.eval()\n",
    "labels = [\"Top\", \"Trouser\", \"Pullover\", \"Dress\", \"Coat\", \"Sandal\", \"Shirt\", \"Sneaker\", \"Bag\", \"Ankle Boot\"]\n",
    "n_samples = 1000\n",
    "\n",
    "# Sample predictions\n",
    "res = np.ones((n_samples, 5, 10))\n",
    "for sample in range(n_samples):\n",
    "    res[sample,:,:] = net(fmnist_sample[0], True).detach().numpy()\n",
    "\n",
    "# Plot predictions\n",
    "fig, axes = plt.subplots(1, 2, figsize=(14, 5))\n",
    "axes[0].imshow(fmnist_sample[0].numpy()[0,0,:,:], interpolation='nearest')\n",
    "for i in range(10):\n",
    "    axes[1].hist(np.exp(res[:,0,i]), label=labels[i])\n",
    "plt.legend()\n",
    "plt.show()"
   ]
  },
  {
   "cell_type": "code",
   "execution_count": null,
   "metadata": {},
   "outputs": [],
   "source": []
  },
  {
   "cell_type": "code",
   "execution_count": null,
   "metadata": {},
   "outputs": [],
   "source": []
  }
 ],
 "metadata": {
  "anaconda-cloud": {},
  "kernelspec": {
   "display_name": "Python [Root]",
   "language": "python",
   "name": "Python [Root]"
  },
  "language_info": {
   "codemirror_mode": {
    "name": "ipython",
    "version": 3
   },
   "file_extension": ".py",
   "mimetype": "text/x-python",
   "name": "python",
   "nbconvert_exporter": "python",
   "pygments_lexer": "ipython3",
   "version": "3.5.1"
  }
 },
 "nbformat": 4,
 "nbformat_minor": 2
}
