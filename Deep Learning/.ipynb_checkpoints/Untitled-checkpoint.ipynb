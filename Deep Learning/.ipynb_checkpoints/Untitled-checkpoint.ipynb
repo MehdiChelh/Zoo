{
 "cells": [
  {
   "cell_type": "code",
   "execution_count": 2,
   "metadata": {},
   "outputs": [],
   "source": [
    "%matplotlib inline\n",
    "import torch.nn.functional as F\n",
    "import torch\n",
    "import torch.utils.data as Data\n",
    "\n",
    "\n",
    "import pandas as pd\n",
    "import numpy as np\n",
    "from matplotlib import pyplot as plt"
   ]
  },
  {
   "cell_type": "markdown",
   "metadata": {},
   "source": [
    "# LSTM and GRU with numpy"
   ]
  },
  {
   "cell_type": "markdown",
   "metadata": {},
   "source": [
    "## 1. GRU"
   ]
  },
  {
   "cell_type": "code",
   "execution_count": null,
   "metadata": {},
   "outputs": [],
   "source": [
    "class GRU:\n",
    "    def __init__(self, input_size, hidden_size):\n",
    "        '''hidden_size is the number of hidden nodes'''\n",
    "        # initialise the weights and biases, and their velocities\n",
    "        wstd = 0.2;\n",
    "        self.w1 = np.random.randn(n_features, hidden_size) * wstd\n",
    "        self.w1v = np.zeros((Nin,Nhidden))\n",
    "        self.b1 = np.zeros((Nhidden,))\n",
    "        self.b1v = np.zeros((Nhidden,))\n",
    "        \n",
    "        self.wz = np.random.randn(2*Nhidden,Nhidden)*wstd\n",
    "        self.wzv = np.zeros((2*Nhidden,Nhidden)) # the weight velocity\n",
    "        self.bz = np.zeros((Nhidden,))\n",
    "        self.bzv = np.zeros((Nhidden,))\n",
    "        \n",
    "        self.wr = np.random.randn(2*Nhidden,Nhidden)*wstd\n",
    "        self.wrv = np.zeros((2*Nhidden,Nhidden)) # the weight velocity\n",
    "        self.br = np.zeros((Nhidden,))\n",
    "        self.brv = np.zeros((Nhidden,))\n",
    "              \n",
    "        self.wh = np.random.randn(2*Nhidden,Nhidden)*wstd\n",
    "        self.whv = np.zeros((2*Nhidden,Nhidden)) # the weight velocity\n",
    "        self.bh = np.zeros((Nhidden,))\n",
    "        self.bhv = np.zeros((Nhidden,))\n",
    "        \n",
    "        self.w2 = np.random.randn(Nhidden,Nout)*wstd\n",
    "        self.w2v = np.zeros((Nhidden,Nout)) # the weight velocity\n",
    "        self.b2 = np.zeros((Nout,))\n",
    "        self.b2v = np.zeros((Nout,))\n",
    "        \n",
    "        self.Nin = Nin\n",
    "        self.Nout = Nout\n",
    "        self.Nhidden = Nhidden\n",
    "    \n",
    "    ''' do the feedforward prediction of a piece of data'''   \n",
    "    def predict(self, input):\n",
    "        L = np.shape(input)[0]\n",
    "        az = np.zeros((L,self.Nhidden))\n",
    "        ar = np.zeros((L,self.Nhidden))\n",
    "        ahhat = np.zeros((L,self.Nhidden))\n",
    "        ah = np.zeros((L,self.Nhidden))\n",
    "        \n",
    "        a1 = tanh(np.dot(input,self.w1) + self.b1)\n",
    "        x = np.concatenate((np.zeros((self.Nhidden)),a1[1,:]))\n",
    "        az[1,:] = sigm(np.dot(x,self.wz) + self.bz)\n",
    "        ar[1,:] = sigm(np.dot(x,self.wr) + self.br)\n",
    "        ahhat[1,:] = tanh(np.dot(x,self.wh) + self.bh)\n",
    "        ah[1,:] = az[1,:]*ahhat[1,:]\n",
    "        \n",
    "        for i in range(1,L):\n",
    "            x = np.concatenate((ah[i-1,:],a1[i,:]))\n",
    "            az[i,:] = sigm(np.dot(x,self.wz) + self.bz)\n",
    "            ar[i,:] = sigm(np.dot(x,self.wr) + self.br)\n",
    "            x = np.concatenate((ar[i,:]*ah[i-1,:],a1[i,:]))\n",
    "            ahhat[i,:] = tanh(np.dot(x,self.wh) + self.bh)\n",
    "            ah[i,:] = (1-az[i,:])*ah[i-1,:] + az[i,:]*ahhat[i,:]\n",
    " \n",
    "        a2 = tanh(np.dot(ah,self.w2) + self.b2)\n",
    "return [a1,az,ar,ahhat,ah,a2]"
   ]
  },
  {
   "cell_type": "code",
   "execution_count": 5,
   "metadata": {},
   "outputs": [
    {
     "data": {
      "text/plain": [
       "array([[[0.33829831, 0.47083824, 0.21061235, 0.24549846, 0.31493204],\n",
       "        [0.09662756, 0.90596127, 0.77956769, 0.5832722 , 0.97447312]],\n",
       "\n",
       "       [[0.07389864, 0.49967193, 0.723311  , 0.86097524, 0.66426914],\n",
       "        [0.75831216, 0.2310033 , 0.85328132, 0.36836061, 0.05981004]],\n",
       "\n",
       "       [[0.52353106, 0.69107279, 0.30856911, 0.88143381, 0.08246923],\n",
       "        [0.76678814, 0.57716198, 0.27305562, 0.35595847, 0.17637209]]])"
      ]
     },
     "execution_count": 5,
     "metadata": {},
     "output_type": "execute_result"
    }
   ],
   "source": []
  },
  {
   "cell_type": "code",
   "execution_count": null,
   "metadata": {},
   "outputs": [],
   "source": []
  }
 ],
 "metadata": {
  "anaconda-cloud": {},
  "kernelspec": {
   "display_name": "Python [Root]",
   "language": "python",
   "name": "Python [Root]"
  },
  "language_info": {
   "codemirror_mode": {
    "name": "ipython",
    "version": 3
   },
   "file_extension": ".py",
   "mimetype": "text/x-python",
   "name": "python",
   "nbconvert_exporter": "python",
   "pygments_lexer": "ipython3",
   "version": "3.5.1"
  }
 },
 "nbformat": 4,
 "nbformat_minor": 2
}
